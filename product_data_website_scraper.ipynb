{
 "cells": [
  {
   "cell_type": "markdown",
   "id": "1cb3c30e-7235-47a4-87b1-2eef628add9d",
   "metadata": {},
   "source": [
    "# **Web scraping**\n",
    "\n",
    "* Scrape product names, descriptions and prices from a price comparison website\n",
    "* Find highest, median and lowest competitor prices for each product to use as a benchmark\n",
    "  ## \n",
    "\n"
   ]
  },
  {
   "cell_type": "code",
   "execution_count": 743,
   "id": "876d89c2",
   "metadata": {},
   "outputs": [],
   "source": [
    "# Crawl price comparison site to get list of product category pages\n",
    "# Crawl category pages to get list of product pages\n",
    "\n",
    "from bs4 import BeautifulSoup\n",
    "import json\n",
    "import pandas\n",
    "import random\n",
    "import re\n",
    "import requests\n",
    "import statistics\n"
   ]
  },
  {
   "cell_type": "code",
   "execution_count": 80,
   "id": "c409234d",
   "metadata": {},
   "outputs": [],
   "source": [
    "response = requests.get('https://www.pricerunner.com/')\n",
    "soup = BeautifulSoup(response.text, 'lxml')\n",
    "scrapt_tag = soup.find(\"script\", id=\"initial_payload\")\n",
    "\n",
    "name_pattern1 = '\"shortName\":\"Electronics\"(.+?)\"shortName\"'\n",
    "name_pattern2 = '\"shortName\":\"Sound & TV\"(.+?)\"shortName\"'\n",
    "pattern = 'path(.+?),'"
   ]
  },
  {
   "cell_type": "code",
   "execution_count": 89,
   "id": "caccecdd",
   "metadata": {},
   "outputs": [
    {
     "name": "stdout",
     "output_type": "stream",
     "text": [
      "<class 'list'> 320\n"
     ]
    }
   ],
   "source": [
    "raw_data1 = re.findall(name_pattern1, scrapt_tag.string, re.S)\n",
    "raw_data2 = re.findall(name_pattern2, scrapt_tag.string, re.S)\n",
    "raw_data_both = raw_data1[0] + raw_data2[0]\n",
    "\n",
    "data = re.findall(pattern, raw_data_both, re.S)\n",
    "print(type(data), len(data))\n"
   ]
  },
  {
   "cell_type": "code",
   "execution_count": 201,
   "id": "a6815507",
   "metadata": {},
   "outputs": [
    {
     "name": "stdout",
     "output_type": "stream",
     "text": [
      "https://www.pricerunner.com/cl/223/Desktop-Computers/\n",
      "https://www.pricerunner.com/cl/27/Laptops/\n",
      "https://www.pricerunner.com/cl/10012/Single-Board-Computers/\n",
      "https://www.pricerunner.com/cl/224/Tablets/\n",
      "https://www.pricerunner.com/cl/1156/eReaders/\n",
      "https://www.pricerunner.com/cl/1426/3D-Printing/\n",
      "https://www.pricerunner.com/cl/569/Computer-Accessories/\n",
      "https://www.pricerunner.com/cl/110/Computer-Mice/\n",
      "https://www.pricerunner.com/cl/182/Graphics-Tablets/\n",
      "https://www.pricerunner.com/cl/187/Ink-Toners/\n",
      "https://www.pricerunner.com/cl/111/Keyboards/\n",
      "https://www.pricerunner.com/cl/10004/Laptop-Stands/\n",
      "https://www.pricerunner.com/cl/25/Monitors/\n",
      "https://www.pricerunner.com/cl/1579/Mouse-Pads/\n",
      "https://www.pricerunner.com/cl/116/Printers/\n",
      "https://www.pricerunner.com/cl/50/Scanners/\n",
      "https://www.pricerunner.com/cl/49/Webcams/\n",
      "https://www.pricerunner.com/cl/10005/External-Enclosures/\n",
      "https://www.pricerunner.com/cl/36/Hard-Drives/\n",
      "https://www.pricerunner.com/cl/233/Memory-Card-Readers/\n",
      "https://www.pricerunner.com/cl/61/Memory-Cards-USB-Flash-Drives/\n",
      "https://www.pricerunner.com/cl/744/NAS-Servers/\n",
      "https://www.pricerunner.com/cl/45/Optical-Drives/\n",
      "https://www.pricerunner.com/cl/41/Optical-Storage/\n",
      "https://www.pricerunner.com/cl/40/CPUs/\n",
      "https://www.pricerunner.com/cl/180/Capture-TV-Cards/\n",
      "https://www.pricerunner.com/cl/186/Computer-Cases/\n",
      "https://www.pricerunner.com/cl/184/Computer-Cooling/\n",
      "https://www.pricerunner.com/cl/188/Controller-Cards/\n",
      "https://www.pricerunner.com/cl/37/Graphics-Cards/\n",
      "https://www.pricerunner.com/cl/35/Motherboards/\n",
      "https://www.pricerunner.com/cl/117/Network-Cards-Bluetooth-Adapters/\n",
      "https://www.pricerunner.com/cl/640/PSU-Units/\n",
      "https://www.pricerunner.com/cl/38/RAM-Memory/\n",
      "https://www.pricerunner.com/cl/48/Sound-Cards/\n",
      "https://www.pricerunner.com/cl/47/Office-Software/\n",
      "https://www.pricerunner.com/cl/294/Operating-Systems/\n",
      "https://www.pricerunner.com/cl/272/Access-Points-Bridges-Repeaters/\n",
      "https://www.pricerunner.com/cl/166/Firewalls/\n",
      "https://www.pricerunner.com/cl/10006/KVM-Switches/\n",
      "https://www.pricerunner.com/cl/10019/Media-Converters/\n",
      "https://www.pricerunner.com/cl/9/Mobile-Modems/\n",
      "https://www.pricerunner.com/cl/168/Routers/\n",
      "https://www.pricerunner.com/cl/1577/Smart-Control-Units/\n",
      "https://www.pricerunner.com/cl/167/Switches/\n",
      "https://www.pricerunner.com/cl/270/USB-Hubs/\n",
      "https://www.pricerunner.com/cl/10014/Computer-Spare-Parts/\n",
      "https://www.pricerunner.com/cl/94/Headphones/\n",
      "https://www.pricerunner.com/cl/2/TVs/\n",
      "https://www.pricerunner.com/cl/34/Audio-Systems/\n",
      "https://www.pricerunner.com/cl/108/CD-Players/\n",
      "https://www.pricerunner.com/cl/1318/D-A-Converter-%28DAC%29/\n",
      "https://www.pricerunner.com/cl/11/MP3-Players/\n",
      "https://www.pricerunner.com/cl/317/Radios/\n",
      "https://www.pricerunner.com/cl/242/Speaker-Accessories/\n",
      "https://www.pricerunner.com/cl/1619/Spikes-Absorbers/\n",
      "https://www.pricerunner.com/cl/231/Turntables/\n",
      "https://www.pricerunner.com/cl/290/Wireless-Audio-Video-Links/\n",
      "https://www.pricerunner.com/cl/267/Speakers/\n",
      "https://www.pricerunner.com/cl/86/Soundbars-Home-Cinema-Systems/\n",
      "https://www.pricerunner.com/cl/10011/Projector-Lamps/\n",
      "https://www.pricerunner.com/cl/1623/Projector-Mounts/\n",
      "https://www.pricerunner.com/cl/178/Projector-Screens/\n",
      "https://www.pricerunner.com/cl/98/Projectors/\n",
      "https://www.pricerunner.com/cl/176/Microphones/\n",
      "https://www.pricerunner.com/cl/713/Studio-Equipment/\n",
      "https://www.pricerunner.com/cl/737/Studio-Mixers/\n",
      "https://www.pricerunner.com/cl/191/Voice-Recorders-Handheld-Music-Recorders/\n",
      "https://www.pricerunner.com/cl/1396/3D-Glasses/\n",
      "https://www.pricerunner.com/cl/229/Digital-TV-Boxes/\n",
      "https://www.pricerunner.com/cl/95/Remote-Controls/\n",
      "https://www.pricerunner.com/cl/239/TV-Accessories/\n",
      "https://www.pricerunner.com/cl/649/Media-Players/\n",
      "https://www.pricerunner.com/cl/738/Instrument-Amplifiers/\n",
      "https://www.pricerunner.com/cl/4/Blu-ray-DVD-Players/\n",
      "https://www.pricerunner.com/cl/687/FM-Transmitters/\n",
      "https://www.pricerunner.com/cl/263/Cables/\n",
      "https://www.pricerunner.com/cl/96/Amplifiers-Receivers/\n"
     ]
    }
   ],
   "source": [
    "url_list = []\n",
    "if data:\n",
    "    for i in data:\n",
    "        if '.jpg' not in i and '?attr' not in i:\n",
    "            k = i.strip('\":\"\\\\')\n",
    "            n = k.split('u002F')\n",
    "            j = ''\n",
    "            for m in n:\n",
    "                j += m.strip('\\\\') + '/'\n",
    "                url = 'https://www.pricerunner.com' + j\n",
    "            if '.com/t' not in url and 'Boat-' not in url and 'Musical-' not in url and 'Karaoke' not in url and 'DJ-' not in url and 'Party-' not in url:\n",
    "                print(url)\n",
    "                url_list.append(url)"
   ]
  },
  {
   "cell_type": "code",
   "execution_count": 195,
   "id": "e74e699b",
   "metadata": {},
   "outputs": [],
   "source": [
    "data2 = []\n",
    "for u in url_list:\n",
    "    response = requests.get(u)\n",
    "    soup = BeautifulSoup(response.text, 'lxml')\n",
    "    scrapt_tag = soup.find(\"script\", id=\"initial_payload\")\n",
    "    pattern2 = '\"url\"(.+?)\",'\n",
    "    data2.append(re.findall(pattern2, scrapt_tag.string, re.S))\n"
   ]
  },
  {
   "cell_type": "code",
   "execution_count": 197,
   "id": "ff12e33a",
   "metadata": {},
   "outputs": [
    {
     "name": "stdout",
     "output_type": "stream",
     "text": [
      "<class 'list'> 54\n"
     ]
    }
   ],
   "source": [
    "print(type(data2), len(data2))"
   ]
  },
  {
   "cell_type": "code",
   "execution_count": 198,
   "id": "d9cf02db",
   "metadata": {},
   "outputs": [
    {
     "name": "stdout",
     "output_type": "stream",
     "text": [
      "3094 \n",
      "\n",
      "['https://www.pricerunner.com/pl/223-3268585/Desktop-Computers/Vibox-Nemesis-Package-12-%28B00YHGDB4U%29-Compare-Prices/', 'https://www.pricerunner.com/pl/223-5252200/Desktop-Computers/Apple-iMac-%282020%29-3-1GHz-HC-8GB-256GB-27-Compare-Prices/', 'https://www.pricerunner.com/pl/223-5252210/Desktop-Computers/Apple-iMac-Retina-5K-Core-i5-3.3GHz-8GB-512GB-Radeon-Pro-5300-27-Compare-Prices/', 'https://www.pricerunner.com/pl/223-5315427/Desktop-Computers/MSI-Trident-X-Plus-9SE-614EU-Compare-Prices/', 'https://www.pricerunner.com/pl/223-3200009295/Desktop-Computers/Apple-Mac-mini-%282020%29-M1-8GB-256GB-SSD-Compare-Prices/', 'https://www.pricerunner.com/pl/223-3200034426/Desktop-Computers/Asrock-DeskMini-X300-%28Black%29-Compare-Prices/']\n"
     ]
    }
   ],
   "source": [
    "url_list_products = []\n",
    "if data2:\n",
    "    for i in data2:\n",
    "        for h in i:\n",
    "            if 'Compare-Prices' in h:\n",
    "                k = h.strip('\":\"\\\\')\n",
    "                n = k.split('u002F')\n",
    "                j = ''\n",
    "                for m in n:\n",
    "                    j += m.strip('\\\\') + '/'\n",
    "                    url = 'https://www.pricerunner.com' + j\n",
    "                #print(url)\n",
    "                url_list_products.append(url)\n",
    "                \n",
    "print(len(url_list_products), '\\n')\n",
    "\n",
    "print(url_list_products[:6])\n"
   ]
  },
  {
   "cell_type": "code",
   "execution_count": 199,
   "id": "9da23d98",
   "metadata": {},
   "outputs": [
    {
     "data": {
      "text/plain": [
       "['https://www.pricerunner.com/pl/223-5252200/Desktop-Computers/Apple-iMac-%282020%29-3-1GHz-HC-8GB-256GB-27-Compare-Prices/']"
      ]
     },
     "execution_count": 199,
     "metadata": {},
     "output_type": "execute_result"
    }
   ],
   "source": [
    "small_url_list = [url_list_products[1]]\n",
    "\n",
    "small_url_list"
   ]
  },
  {
   "cell_type": "code",
   "execution_count": 253,
   "id": "8ffbf888",
   "metadata": {},
   "outputs": [],
   "source": [
    "# crawl each url to take product_name, short_description, prices\n",
    "\n",
    "data3 = []"
   ]
  },
  {
   "cell_type": "code",
   "execution_count": 499,
   "id": "bc0f5647",
   "metadata": {},
   "outputs": [],
   "source": [
    "for n in range(1, len(url_list_products)): \n",
    "    response = requests.get(url_list_products[n])\n",
    "    soup = BeautifulSoup(response.text, 'lxml')\n",
    "    scrapt_tag = soup.find(\"script\", id=\"initial_payload\")\n",
    "    pattern_name = '\"ogTitle\"(.+?)\",'\n",
    "    pattern_descr = '\"article\"(.+?)\",'\n",
    "    pattern_prices = '\"merchantId\"(.+?)}'\n",
    "    #pattern_links = '\"url\"(.+?)\",'\n",
    "    name = re.findall(pattern_name, scrapt_tag.string, re.S)\n",
    "    descr = re.findall(pattern_descr, scrapt_tag.string, re.S)\n",
    "    prices = re.findall(pattern_prices, scrapt_tag.string, re.S)\n",
    "    #links = re.findall(pattern_links, scrapt_tag.string, re.S)\n",
    "    data3.append((name, descr, prices))\n"
   ]
  },
  {
   "cell_type": "code",
   "execution_count": 500,
   "id": "c282e76e",
   "metadata": {},
   "outputs": [
    {
     "name": "stdout",
     "output_type": "stream",
     "text": [
      "<class 'list'> 3008\n"
     ]
    }
   ],
   "source": [
    "print(type(data3), len(data3))"
   ]
  },
  {
   "cell_type": "code",
   "execution_count": 501,
   "id": "7d7fd88b",
   "metadata": {},
   "outputs": [
    {
     "name": "stdout",
     "output_type": "stream",
     "text": [
      "<class 'list'> 2569\n"
     ]
    }
   ],
   "source": [
    "# Remove duplicate products\n",
    "data3_set = []\n",
    "for i in data3:\n",
    "    if i not in data3_set:\n",
    "        data3_set.append(i)\n",
    "print(type(data3_set), len(data3_set))"
   ]
  },
  {
   "cell_type": "code",
   "execution_count": 569,
   "id": "35ef3ae9",
   "metadata": {},
   "outputs": [
    {
     "name": "stdout",
     "output_type": "stream",
     "text": [
      "643\n"
     ]
    }
   ],
   "source": [
    "# Remove products without descriptions\n",
    "count = 0\n",
    "data4_rough = []\n",
    "for item in data3:\n",
    "    prices = []\n",
    "    for i in item[2]:\n",
    "        temp_number = ''\n",
    "        for c in i:\n",
    "            if c.isnumeric() or c in ['{', '.']:\n",
    "                temp_number += c\n",
    "        prices_raw = temp_number.split('{')\n",
    "        if len(prices_raw) == 2:\n",
    "            prices.append(prices_raw)\n",
    "    if len(item[1][0]) > 2:\n",
    "        count += 1\n",
    "        count_str = str(count)\n",
    "        while len(count_str) < 6:\n",
    "            count_str = '0' + count_str # give each product a unique ID\n",
    "        data4_rough.append((count_str, item[0][0].lstrip(':\"').rstrip('– Best deals on PriceRunner UK').rstrip('\\\\\"'), item[1][0].lstrip(':\"'), prices))\n",
    "print(count)"
   ]
  },
  {
   "cell_type": "code",
   "execution_count": 570,
   "id": "251d68bf",
   "metadata": {},
   "outputs": [
    {
     "data": {
      "text/plain": [
       "('000001',\n",
       " 'Apple iMac (2020) - 3,1GHz HC 8GB 256GB 27',\n",
       " \"This all-in-one computer from Apple works great for those who like gaming because if it's high-performance hardware. The Intel Core i5 processor in this computer is very high-end and the Radeon Pro 5300 graphics card is not made for advanced applications or games. The hard drive is the fastest one you can get in computers made for the general public.\\\\n\\\\n* RAM: 8 GB\\\\n* Grafikkortet is a Radeon Pro 5300\\\\n* Intel Core i5 processor\\\\n* 3 GHz processor speed\\\\n* 256 GB SSD drive\\\\n\\\\nThis model is equipped with a SSD drive, which is a quiet and faster hard drive compared to the traditional HDD drive. The hard drive has room for 256 GB of data. The internal memory (RAM) amounts to 8 GB. If you replace the RAM, take care to check that the RAM fits your motherboard.\\\\n\\\\nTo buy a new graphics card for your computer could be useful if you play a lot of graphics-heavy games. The graphics card that comes with this computer is a Radeon Pro 5300. This particular graphics card is good for less demanding tasks such as reading emails and surfing the web.\\\\n\\\\nTo execute all the actions asked of it, the computer uses a CPU. A more powerful processor means the computer works faster. This computer has an Intel Core i5 processor with a clock speed of 3.1 GHz. This is a six-core CPU to handle a heavier workload.\\\\n\\\\nIn short, this product has a lot of things going for it and if you compare prices here on our site you'll see that the current lowest price is £1649.98.\",\n",
       " [['10036', '1649.98'],\n",
       "  ['104426', '1749.99'],\n",
       "  ['4876', '1799.00'],\n",
       "  ['43330', '2492.36']])"
      ]
     },
     "execution_count": 570,
     "metadata": {},
     "output_type": "execute_result"
    }
   ],
   "source": [
    "data4_rough[0]"
   ]
  },
  {
   "cell_type": "code",
   "execution_count": 544,
   "id": "bbde402c",
   "metadata": {},
   "outputs": [
    {
     "data": {
      "text/plain": [
       "'10606'"
      ]
     },
     "execution_count": 544,
     "metadata": {},
     "output_type": "execute_result"
    }
   ],
   "source": [
    "# Function to find most common seller\n",
    "def most_frequent(List):\n",
    "    counter = 0\n",
    "    num = List[0]\n",
    "     \n",
    "    for i in List:\n",
    "        curr_frequency = List.count(i)\n",
    "        if(curr_frequency> counter):\n",
    "            counter = curr_frequency\n",
    "            seller = i\n",
    "    return seller\n",
    "\n",
    "seller_ids =[]\n",
    "for item in data4_rough:\n",
    "    if item[3]:\n",
    "        for i in range(len(item[3])):\n",
    "            seller_ids.append(item[3][i][0])\n",
    "            \n",
    "most_frequent(seller_ids)"
   ]
  },
  {
   "cell_type": "code",
   "execution_count": 690,
   "id": "73966074",
   "metadata": {},
   "outputs": [],
   "source": [
    "# clean data to remove '\\\\n'\n",
    "data_clean = []\n",
    "count = 0\n",
    "for item in data4_rough:\n",
    "    descr = ''\n",
    "    chunks = item[2].split('\\\\n')\n",
    "    for chunk in chunks:\n",
    "        if chunk:\n",
    "            descr += ' ' + chunk.strip('*')\n",
    "    seller_ids = []\n",
    "    comp_prices = []\n",
    "    min_price = ''\n",
    "    max_price = ''\n",
    "    med_price = ''\n",
    "    own_prices = []\n",
    "    for p_tup in item[3]:\n",
    "        if p_tup[0] not in seller_ids:\n",
    "            seller_ids.append(p_tup[0])\n",
    "        if p_tup[0] == '10606':\n",
    "            own_prices.append(p_tup[1])\n",
    "        else:\n",
    "            comp_prices.append(float(p_tup[1]))\n",
    "    if '10606' in seller_ids:\n",
    "        if len(comp_prices) >= 1:\n",
    "            min_price = min(comp_prices)\n",
    "        if len(comp_prices) >= 2:\n",
    "            max_price = max(comp_prices)\n",
    "        if len(comp_prices) >= 3:\n",
    "            med_price = statistics.median(comp_prices)\n",
    "        count += 1\n",
    "        count_str = str(count)\n",
    "        while len(count_str) < 6:\n",
    "            count_str = '0' + count_str # give each product a unique ID\n",
    "        #print((item[0], item[1], min(own_prices), min_price, med_price, max_price))\n",
    "        data_clean.append((count_str, item[1], min(own_prices), descr.strip(), min_price, med_price, max_price))\n",
    "            "
   ]
  },
  {
   "cell_type": "code",
   "execution_count": 700,
   "id": "a6080fb2",
   "metadata": {},
   "outputs": [
    {
     "name": "stdout",
     "output_type": "stream",
     "text": [
      "000046 \"Apple iPad 10.9\\\" 64GB (2022)\" 503.00 \"Whether you want to read e-boo\" 399.29 485.0 744.48\n",
      "000047 \"Apple iPad 10.9\\\" 256GB (2022)\" 683.00 \"This tablet is a very handy to\" 528.99 793.995 1141.76\n",
      "000048 \"Amazon Fire HD 8 \\\"32GB 12th Generation (2022)\" 69.99 \"Whether you want to read e-boo\" 99.99  99.99\n",
      "000049 \"Lenovo Tab M10 3rd Gen 10.1 64G\" 146.99 \"This tablet is a very handy to\" 149.0 179.495 215.38\n",
      "000050 \"Apple iPad 256GB (2021)\" 470.00 \"If you find it's not ideal to \" 387.66 520.825 767.0\n"
     ]
    }
   ],
   "source": [
    "for item in data_clean[45:50]:\n",
    "    print(item[0], '\"'+item[1]+'\"', item[2], '\"'+item[3][:30]+'\"', item[4], item[5], item[6])"
   ]
  },
  {
   "cell_type": "code",
   "execution_count": 749,
   "id": "e16b73e5",
   "metadata": {},
   "outputs": [],
   "source": [
    "# Extend data columns and format\n",
    "data_extended = []\n",
    "data_extended.append(('product_id', 'name', 'description', 'own_price', 'cost', 'profit_rate_%', 'min_price', 'med_price', 'max_price', 'in_stock', 'sales_old', 'sales_new', 'sales_change'))\n",
    "for item in data_clean:\n",
    "    item_2 = float(item[2])\n",
    "    cost_factor = random.randint(110, 170)/100\n",
    "    if item[4] and item[4] < item_2:\n",
    "        cost = round(float(item[4]) / cost_factor, 2)\n",
    "    else:\n",
    "        cost = round(float(item[2]) / cost_factor, 2)\n",
    "    profit_rate = round((item_2-cost)/cost*100, 1)\n",
    "    in_stock = random.randint(1, 1000)\n",
    "    sales_old = random.randint(1, 100)\n",
    "    sales_new = random.randint(1, 100)\n",
    "    change = sales_new - sales_old\n",
    "    if item[4]:\n",
    "        item_4 = round(float(item[4]), 2)\n",
    "    else:\n",
    "        item_4 = item[4]\n",
    "    if item[5]:\n",
    "        item_5 = round(float(item[5]), 2)\n",
    "    else:\n",
    "        item_5 = item[5]\n",
    "    if item[6]:\n",
    "        item_6 = round(float(item[6]), 2)\n",
    "    else:\n",
    "        item_6 = item[6]\n",
    "    data_extended.append((str(item[0]), item[1], item[3], round(item_2, 2), cost, profit_rate, item_4, item_5, item_6, in_stock, sales_old, sales_new, change))\n",
    "    "
   ]
  },
  {
   "cell_type": "code",
   "execution_count": 750,
   "id": "2e7d605c",
   "metadata": {},
   "outputs": [],
   "source": [
    "# Save as csv file\n",
    "pd = pandas.DataFrame(data_extended)\n",
    "pd.to_csv('project_1.2_data_products_prices.csv')"
   ]
  },
  {
   "cell_type": "code",
   "execution_count": 755,
   "id": "222c4b81",
   "metadata": {},
   "outputs": [],
   "source": [
    "customer_products = []\n",
    "for n in range(200):\n",
    "    j = random.randint(1, len(data_extended)-1)\n",
    "    k = random.randint(1, len(data_extended)-1)\n",
    "    customer_products.append((data_extended[j][0], data_extended[k][0]))"
   ]
  },
  {
   "cell_type": "code",
   "execution_count": 758,
   "id": "8ec352c2",
   "metadata": {},
   "outputs": [],
   "source": [
    "# Save as csv file\n",
    "pd2 = pandas.DataFrame(customer_products)\n",
    "pd2.to_csv('project_1.1_customer_products.csv')"
   ]
  }
 ],
 "metadata": {
  "kernelspec": {
   "display_name": "Python 3 (ipykernel)",
   "language": "python",
   "name": "python3"
  },
  "language_info": {
   "codemirror_mode": {
    "name": "ipython",
    "version": 3
   },
   "file_extension": ".py",
   "mimetype": "text/x-python",
   "name": "python",
   "nbconvert_exporter": "python",
   "pygments_lexer": "ipython3",
   "version": "3.11.5"
  }
 },
 "nbformat": 4,
 "nbformat_minor": 5
}
